{
  "nbformat": 4,
  "nbformat_minor": 0,
  "metadata": {
    "colab": {
      "provenance": [],
      "authorship_tag": "ABX9TyNxOGT0BcJPufvsU24QHTC+",
      "include_colab_link": true
    },
    "kernelspec": {
      "name": "python3",
      "display_name": "Python 3"
    },
    "language_info": {
      "name": "python"
    }
  },
  "cells": [
    {
      "cell_type": "markdown",
      "metadata": {
        "id": "view-in-github",
        "colab_type": "text"
      },
      "source": [
        "<a href=\"https://colab.research.google.com/github/anugoel890/chromadb/blob/main/Chromadb.ipynb\" target=\"_parent\"><img src=\"https://colab.research.google.com/assets/colab-badge.svg\" alt=\"Open In Colab\"/></a>"
      ]
    },
    {
      "cell_type": "code",
      "execution_count": 62,
      "metadata": {
        "colab": {
          "base_uri": "https://localhost:8080/"
        },
        "id": "-DwJKnpjA_Vn",
        "outputId": "ab717053-8f12-4e06-b7c8-cb21ee1b08f4"
      },
      "outputs": [
        {
          "output_type": "stream",
          "name": "stdout",
          "text": [
            "Requirement already satisfied: chromadb==0.3.21 in /usr/local/lib/python3.10/dist-packages (0.3.21)\n",
            "Requirement already satisfied: pandas>=1.3 in /usr/local/lib/python3.10/dist-packages (from chromadb==0.3.21) (2.0.3)\n",
            "Requirement already satisfied: requests>=2.28 in /usr/local/lib/python3.10/dist-packages (from chromadb==0.3.21) (2.31.0)\n",
            "Requirement already satisfied: pydantic>=1.9 in /usr/local/lib/python3.10/dist-packages (from chromadb==0.3.21) (1.9.0)\n",
            "Requirement already satisfied: hnswlib>=0.7 in /usr/local/lib/python3.10/dist-packages (from chromadb==0.3.21) (0.8.0)\n",
            "Requirement already satisfied: clickhouse-connect>=0.5.7 in /usr/local/lib/python3.10/dist-packages (from chromadb==0.3.21) (0.7.11)\n",
            "Requirement already satisfied: sentence-transformers>=2.2.2 in /usr/local/lib/python3.10/dist-packages (from chromadb==0.3.21) (3.0.0)\n",
            "Requirement already satisfied: duckdb>=0.7.1 in /usr/local/lib/python3.10/dist-packages (from chromadb==0.3.21) (0.10.3)\n",
            "Requirement already satisfied: fastapi>=0.85.1 in /usr/local/lib/python3.10/dist-packages (from chromadb==0.3.21) (0.111.0)\n",
            "Requirement already satisfied: uvicorn[standard]>=0.18.3 in /usr/local/lib/python3.10/dist-packages (from chromadb==0.3.21) (0.30.1)\n",
            "Requirement already satisfied: numpy>=1.21.6 in /usr/local/lib/python3.10/dist-packages (from chromadb==0.3.21) (1.25.2)\n",
            "Requirement already satisfied: posthog>=2.4.0 in /usr/local/lib/python3.10/dist-packages (from chromadb==0.3.21) (3.5.0)\n",
            "Requirement already satisfied: certifi in /usr/local/lib/python3.10/dist-packages (from clickhouse-connect>=0.5.7->chromadb==0.3.21) (2024.2.2)\n",
            "Requirement already satisfied: urllib3>=1.26 in /usr/local/lib/python3.10/dist-packages (from clickhouse-connect>=0.5.7->chromadb==0.3.21) (2.0.7)\n",
            "Requirement already satisfied: pytz in /usr/local/lib/python3.10/dist-packages (from clickhouse-connect>=0.5.7->chromadb==0.3.21) (2023.4)\n",
            "Requirement already satisfied: zstandard in /usr/local/lib/python3.10/dist-packages (from clickhouse-connect>=0.5.7->chromadb==0.3.21) (0.22.0)\n",
            "Requirement already satisfied: lz4 in /usr/local/lib/python3.10/dist-packages (from clickhouse-connect>=0.5.7->chromadb==0.3.21) (4.3.3)\n",
            "Requirement already satisfied: starlette<0.38.0,>=0.37.2 in /usr/local/lib/python3.10/dist-packages (from fastapi>=0.85.1->chromadb==0.3.21) (0.37.2)\n",
            "Requirement already satisfied: typing-extensions>=4.8.0 in /usr/local/lib/python3.10/dist-packages (from fastapi>=0.85.1->chromadb==0.3.21) (4.12.0)\n",
            "Requirement already satisfied: fastapi-cli>=0.0.2 in /usr/local/lib/python3.10/dist-packages (from fastapi>=0.85.1->chromadb==0.3.21) (0.0.4)\n",
            "Requirement already satisfied: httpx>=0.23.0 in /usr/local/lib/python3.10/dist-packages (from fastapi>=0.85.1->chromadb==0.3.21) (0.27.0)\n",
            "Requirement already satisfied: jinja2>=2.11.2 in /usr/local/lib/python3.10/dist-packages (from fastapi>=0.85.1->chromadb==0.3.21) (3.1.4)\n",
            "Requirement already satisfied: python-multipart>=0.0.7 in /usr/local/lib/python3.10/dist-packages (from fastapi>=0.85.1->chromadb==0.3.21) (0.0.9)\n",
            "Requirement already satisfied: ujson!=4.0.2,!=4.1.0,!=4.2.0,!=4.3.0,!=5.0.0,!=5.1.0,>=4.0.1 in /usr/local/lib/python3.10/dist-packages (from fastapi>=0.85.1->chromadb==0.3.21) (5.10.0)\n",
            "Requirement already satisfied: orjson>=3.2.1 in /usr/local/lib/python3.10/dist-packages (from fastapi>=0.85.1->chromadb==0.3.21) (3.10.3)\n",
            "Requirement already satisfied: email_validator>=2.0.0 in /usr/local/lib/python3.10/dist-packages (from fastapi>=0.85.1->chromadb==0.3.21) (2.1.1)\n",
            "Requirement already satisfied: python-dateutil>=2.8.2 in /usr/local/lib/python3.10/dist-packages (from pandas>=1.3->chromadb==0.3.21) (2.8.2)\n",
            "Requirement already satisfied: tzdata>=2022.1 in /usr/local/lib/python3.10/dist-packages (from pandas>=1.3->chromadb==0.3.21) (2024.1)\n",
            "Requirement already satisfied: six>=1.5 in /usr/local/lib/python3.10/dist-packages (from posthog>=2.4.0->chromadb==0.3.21) (1.16.0)\n",
            "Requirement already satisfied: monotonic>=1.5 in /usr/local/lib/python3.10/dist-packages (from posthog>=2.4.0->chromadb==0.3.21) (1.6)\n",
            "Requirement already satisfied: backoff>=1.10.0 in /usr/local/lib/python3.10/dist-packages (from posthog>=2.4.0->chromadb==0.3.21) (2.2.1)\n",
            "Requirement already satisfied: charset-normalizer<4,>=2 in /usr/local/lib/python3.10/dist-packages (from requests>=2.28->chromadb==0.3.21) (3.3.2)\n",
            "Requirement already satisfied: idna<4,>=2.5 in /usr/local/lib/python3.10/dist-packages (from requests>=2.28->chromadb==0.3.21) (3.7)\n",
            "Requirement already satisfied: transformers<5.0.0,>=4.34.0 in /usr/local/lib/python3.10/dist-packages (from sentence-transformers>=2.2.2->chromadb==0.3.21) (4.41.1)\n",
            "Requirement already satisfied: tqdm in /usr/local/lib/python3.10/dist-packages (from sentence-transformers>=2.2.2->chromadb==0.3.21) (4.66.4)\n",
            "Requirement already satisfied: torch>=1.11.0 in /usr/local/lib/python3.10/dist-packages (from sentence-transformers>=2.2.2->chromadb==0.3.21) (2.3.0+cu121)\n",
            "Requirement already satisfied: scikit-learn in /usr/local/lib/python3.10/dist-packages (from sentence-transformers>=2.2.2->chromadb==0.3.21) (1.2.2)\n",
            "Requirement already satisfied: scipy in /usr/local/lib/python3.10/dist-packages (from sentence-transformers>=2.2.2->chromadb==0.3.21) (1.11.4)\n",
            "Requirement already satisfied: huggingface-hub>=0.15.1 in /usr/local/lib/python3.10/dist-packages (from sentence-transformers>=2.2.2->chromadb==0.3.21) (0.23.2)\n",
            "Requirement already satisfied: Pillow in /usr/local/lib/python3.10/dist-packages (from sentence-transformers>=2.2.2->chromadb==0.3.21) (9.4.0)\n",
            "Requirement already satisfied: click>=7.0 in /usr/local/lib/python3.10/dist-packages (from uvicorn[standard]>=0.18.3->chromadb==0.3.21) (8.1.7)\n",
            "Requirement already satisfied: h11>=0.8 in /usr/local/lib/python3.10/dist-packages (from uvicorn[standard]>=0.18.3->chromadb==0.3.21) (0.14.0)\n",
            "Requirement already satisfied: httptools>=0.5.0 in /usr/local/lib/python3.10/dist-packages (from uvicorn[standard]>=0.18.3->chromadb==0.3.21) (0.6.1)\n",
            "Requirement already satisfied: python-dotenv>=0.13 in /usr/local/lib/python3.10/dist-packages (from uvicorn[standard]>=0.18.3->chromadb==0.3.21) (1.0.1)\n",
            "Requirement already satisfied: pyyaml>=5.1 in /usr/local/lib/python3.10/dist-packages (from uvicorn[standard]>=0.18.3->chromadb==0.3.21) (6.0.1)\n",
            "Requirement already satisfied: uvloop!=0.15.0,!=0.15.1,>=0.14.0 in /usr/local/lib/python3.10/dist-packages (from uvicorn[standard]>=0.18.3->chromadb==0.3.21) (0.19.0)\n",
            "Requirement already satisfied: watchfiles>=0.13 in /usr/local/lib/python3.10/dist-packages (from uvicorn[standard]>=0.18.3->chromadb==0.3.21) (0.22.0)\n",
            "Requirement already satisfied: websockets>=10.4 in /usr/local/lib/python3.10/dist-packages (from uvicorn[standard]>=0.18.3->chromadb==0.3.21) (12.0)\n",
            "Requirement already satisfied: dnspython>=2.0.0 in /usr/local/lib/python3.10/dist-packages (from email_validator>=2.0.0->fastapi>=0.85.1->chromadb==0.3.21) (2.6.1)\n",
            "Requirement already satisfied: typer>=0.12.3 in /usr/local/lib/python3.10/dist-packages (from fastapi-cli>=0.0.2->fastapi>=0.85.1->chromadb==0.3.21) (0.12.3)\n",
            "Requirement already satisfied: anyio in /usr/local/lib/python3.10/dist-packages (from httpx>=0.23.0->fastapi>=0.85.1->chromadb==0.3.21) (3.7.1)\n",
            "Requirement already satisfied: httpcore==1.* in /usr/local/lib/python3.10/dist-packages (from httpx>=0.23.0->fastapi>=0.85.1->chromadb==0.3.21) (1.0.5)\n",
            "Requirement already satisfied: sniffio in /usr/local/lib/python3.10/dist-packages (from httpx>=0.23.0->fastapi>=0.85.1->chromadb==0.3.21) (1.3.1)\n",
            "Requirement already satisfied: filelock in /usr/local/lib/python3.10/dist-packages (from huggingface-hub>=0.15.1->sentence-transformers>=2.2.2->chromadb==0.3.21) (3.14.0)\n",
            "Requirement already satisfied: fsspec>=2023.5.0 in /usr/local/lib/python3.10/dist-packages (from huggingface-hub>=0.15.1->sentence-transformers>=2.2.2->chromadb==0.3.21) (2023.6.0)\n",
            "Requirement already satisfied: packaging>=20.9 in /usr/local/lib/python3.10/dist-packages (from huggingface-hub>=0.15.1->sentence-transformers>=2.2.2->chromadb==0.3.21) (24.0)\n",
            "Requirement already satisfied: MarkupSafe>=2.0 in /usr/local/lib/python3.10/dist-packages (from jinja2>=2.11.2->fastapi>=0.85.1->chromadb==0.3.21) (2.1.5)\n",
            "Requirement already satisfied: sympy in /usr/local/lib/python3.10/dist-packages (from torch>=1.11.0->sentence-transformers>=2.2.2->chromadb==0.3.21) (1.12.1)\n",
            "Requirement already satisfied: networkx in /usr/local/lib/python3.10/dist-packages (from torch>=1.11.0->sentence-transformers>=2.2.2->chromadb==0.3.21) (3.3)\n",
            "Requirement already satisfied: nvidia-cuda-nvrtc-cu12==12.1.105 in /usr/local/lib/python3.10/dist-packages (from torch>=1.11.0->sentence-transformers>=2.2.2->chromadb==0.3.21) (12.1.105)\n",
            "Requirement already satisfied: nvidia-cuda-runtime-cu12==12.1.105 in /usr/local/lib/python3.10/dist-packages (from torch>=1.11.0->sentence-transformers>=2.2.2->chromadb==0.3.21) (12.1.105)\n",
            "Requirement already satisfied: nvidia-cuda-cupti-cu12==12.1.105 in /usr/local/lib/python3.10/dist-packages (from torch>=1.11.0->sentence-transformers>=2.2.2->chromadb==0.3.21) (12.1.105)\n",
            "Requirement already satisfied: nvidia-cudnn-cu12==8.9.2.26 in /usr/local/lib/python3.10/dist-packages (from torch>=1.11.0->sentence-transformers>=2.2.2->chromadb==0.3.21) (8.9.2.26)\n",
            "Requirement already satisfied: nvidia-cublas-cu12==12.1.3.1 in /usr/local/lib/python3.10/dist-packages (from torch>=1.11.0->sentence-transformers>=2.2.2->chromadb==0.3.21) (12.1.3.1)\n",
            "Requirement already satisfied: nvidia-cufft-cu12==11.0.2.54 in /usr/local/lib/python3.10/dist-packages (from torch>=1.11.0->sentence-transformers>=2.2.2->chromadb==0.3.21) (11.0.2.54)\n",
            "Requirement already satisfied: nvidia-curand-cu12==10.3.2.106 in /usr/local/lib/python3.10/dist-packages (from torch>=1.11.0->sentence-transformers>=2.2.2->chromadb==0.3.21) (10.3.2.106)\n",
            "Requirement already satisfied: nvidia-cusolver-cu12==11.4.5.107 in /usr/local/lib/python3.10/dist-packages (from torch>=1.11.0->sentence-transformers>=2.2.2->chromadb==0.3.21) (11.4.5.107)\n",
            "Requirement already satisfied: nvidia-cusparse-cu12==12.1.0.106 in /usr/local/lib/python3.10/dist-packages (from torch>=1.11.0->sentence-transformers>=2.2.2->chromadb==0.3.21) (12.1.0.106)\n",
            "Requirement already satisfied: nvidia-nccl-cu12==2.20.5 in /usr/local/lib/python3.10/dist-packages (from torch>=1.11.0->sentence-transformers>=2.2.2->chromadb==0.3.21) (2.20.5)\n",
            "Requirement already satisfied: nvidia-nvtx-cu12==12.1.105 in /usr/local/lib/python3.10/dist-packages (from torch>=1.11.0->sentence-transformers>=2.2.2->chromadb==0.3.21) (12.1.105)\n",
            "Requirement already satisfied: triton==2.3.0 in /usr/local/lib/python3.10/dist-packages (from torch>=1.11.0->sentence-transformers>=2.2.2->chromadb==0.3.21) (2.3.0)\n",
            "Requirement already satisfied: nvidia-nvjitlink-cu12 in /usr/local/lib/python3.10/dist-packages (from nvidia-cusolver-cu12==11.4.5.107->torch>=1.11.0->sentence-transformers>=2.2.2->chromadb==0.3.21) (12.5.40)\n",
            "Requirement already satisfied: regex!=2019.12.17 in /usr/local/lib/python3.10/dist-packages (from transformers<5.0.0,>=4.34.0->sentence-transformers>=2.2.2->chromadb==0.3.21) (2024.5.15)\n",
            "Requirement already satisfied: tokenizers<0.20,>=0.19 in /usr/local/lib/python3.10/dist-packages (from transformers<5.0.0,>=4.34.0->sentence-transformers>=2.2.2->chromadb==0.3.21) (0.19.1)\n",
            "Requirement already satisfied: safetensors>=0.4.1 in /usr/local/lib/python3.10/dist-packages (from transformers<5.0.0,>=4.34.0->sentence-transformers>=2.2.2->chromadb==0.3.21) (0.4.3)\n",
            "Requirement already satisfied: joblib>=1.1.1 in /usr/local/lib/python3.10/dist-packages (from scikit-learn->sentence-transformers>=2.2.2->chromadb==0.3.21) (1.4.2)\n",
            "Requirement already satisfied: threadpoolctl>=2.0.0 in /usr/local/lib/python3.10/dist-packages (from scikit-learn->sentence-transformers>=2.2.2->chromadb==0.3.21) (3.5.0)\n",
            "Requirement already satisfied: exceptiongroup in /usr/local/lib/python3.10/dist-packages (from anyio->httpx>=0.23.0->fastapi>=0.85.1->chromadb==0.3.21) (1.2.1)\n",
            "Requirement already satisfied: shellingham>=1.3.0 in /usr/local/lib/python3.10/dist-packages (from typer>=0.12.3->fastapi-cli>=0.0.2->fastapi>=0.85.1->chromadb==0.3.21) (1.5.4)\n",
            "Requirement already satisfied: rich>=10.11.0 in /usr/local/lib/python3.10/dist-packages (from typer>=0.12.3->fastapi-cli>=0.0.2->fastapi>=0.85.1->chromadb==0.3.21) (13.7.1)\n",
            "Requirement already satisfied: mpmath<1.4.0,>=1.1.0 in /usr/local/lib/python3.10/dist-packages (from sympy->torch>=1.11.0->sentence-transformers>=2.2.2->chromadb==0.3.21) (1.3.0)\n",
            "Requirement already satisfied: markdown-it-py>=2.2.0 in /usr/local/lib/python3.10/dist-packages (from rich>=10.11.0->typer>=0.12.3->fastapi-cli>=0.0.2->fastapi>=0.85.1->chromadb==0.3.21) (3.0.0)\n",
            "Requirement already satisfied: pygments<3.0.0,>=2.13.0 in /usr/local/lib/python3.10/dist-packages (from rich>=10.11.0->typer>=0.12.3->fastapi-cli>=0.0.2->fastapi>=0.85.1->chromadb==0.3.21) (2.16.1)\n",
            "Requirement already satisfied: mdurl~=0.1 in /usr/local/lib/python3.10/dist-packages (from markdown-it-py>=2.2.0->rich>=10.11.0->typer>=0.12.3->fastapi-cli>=0.0.2->fastapi>=0.85.1->chromadb==0.3.21) (0.1.2)\n"
          ]
        }
      ],
      "source": [
        "!pip install chromadb==0.3.21\n"
      ]
    },
    {
      "cell_type": "code",
      "source": [
        "!pip install pydantic==1.9.0"
      ],
      "metadata": {
        "colab": {
          "base_uri": "https://localhost:8080/"
        },
        "id": "0o6xSKHTCS9d",
        "outputId": "aef7885c-a062-4281-d4b1-bcf8086f4d6c"
      },
      "execution_count": 63,
      "outputs": [
        {
          "output_type": "stream",
          "name": "stdout",
          "text": [
            "Requirement already satisfied: pydantic==1.9.0 in /usr/local/lib/python3.10/dist-packages (1.9.0)\n",
            "Requirement already satisfied: typing-extensions>=3.7.4.3 in /usr/local/lib/python3.10/dist-packages (from pydantic==1.9.0) (4.12.0)\n"
          ]
        }
      ]
    },
    {
      "cell_type": "code",
      "source": [
        "import chromadb\n",
        "from chromadb.config import Settings"
      ],
      "metadata": {
        "id": "kHtaq1bqBd7X"
      },
      "execution_count": 64,
      "outputs": []
    },
    {
      "cell_type": "code",
      "source": [
        "import pandas as pd\n",
        "\n",
        "pdf = pd.read_csv(\"sample_data/labelled_newscatcher_dataset.csv\", sep=\";\")\n",
        "pdf[\"id\"] = pdf.index\n",
        "pdf_subset = pdf.head(1000)"
      ],
      "metadata": {
        "id": "j0CXFx2NBTlF"
      },
      "execution_count": 65,
      "outputs": []
    },
    {
      "cell_type": "code",
      "source": [
        "chroma = chromadb.Client(\n",
        "    Settings(\n",
        "        chroma_db_impl=\"duckdb+parquet\",\n",
        "        persist_directory=\"sample_data\"\n",
        "    )\n",
        ")\n"
      ],
      "metadata": {
        "colab": {
          "base_uri": "https://localhost:8080/"
        },
        "id": "JF_RQCBBDWHQ",
        "outputId": "65e4a87e-113c-4e09-d5da-d841a17e14c3"
      },
      "execution_count": 66,
      "outputs": [
        {
          "output_type": "stream",
          "name": "stderr",
          "text": [
            "WARNING:chromadb:Using embedded DuckDB with persistence: data will be stored in: sample_data\n"
          ]
        }
      ]
    },
    {
      "cell_type": "code",
      "source": [
        "collection_name=\"collection_news\""
      ],
      "metadata": {
        "id": "vIo20UeEEFmh"
      },
      "execution_count": 67,
      "outputs": []
    },
    {
      "cell_type": "code",
      "source": [
        "chroma.list_collections()"
      ],
      "metadata": {
        "colab": {
          "base_uri": "https://localhost:8080/"
        },
        "id": "zwwLLzvNEul3",
        "outputId": "21194ae4-5fcc-4b58-9626-472fdfe0a6ae"
      },
      "execution_count": 68,
      "outputs": [
        {
          "output_type": "execute_result",
          "data": {
            "text/plain": [
              "[]"
            ]
          },
          "metadata": {},
          "execution_count": 68
        }
      ]
    },
    {
      "cell_type": "code",
      "source": [
        "if len(chroma.list_collections()) > 0 and collection_name in [chroma.list_collections()[0].name]:\n",
        "  chroma.delete_collection(name = collection_name)"
      ],
      "metadata": {
        "id": "eDug2itoDu2x"
      },
      "execution_count": 69,
      "outputs": []
    },
    {
      "cell_type": "code",
      "source": [
        "metadata = [{\"topic\":x} for x in pdf_subset[\"topic\"][:100]]\n",
        "ids = [f\"id{x}\" for x in range(100)]"
      ],
      "metadata": {
        "id": "zAP384u2FV0e"
      },
      "execution_count": 70,
      "outputs": []
    },
    {
      "cell_type": "code",
      "source": [
        "ids"
      ],
      "metadata": {
        "colab": {
          "base_uri": "https://localhost:8080/"
        },
        "id": "I4EEeaw7Jzgt",
        "outputId": "fac5af03-be40-4dfc-b3c9-b5a96055dbf8"
      },
      "execution_count": 71,
      "outputs": [
        {
          "output_type": "execute_result",
          "data": {
            "text/plain": [
              "['id0',\n",
              " 'id1',\n",
              " 'id2',\n",
              " 'id3',\n",
              " 'id4',\n",
              " 'id5',\n",
              " 'id6',\n",
              " 'id7',\n",
              " 'id8',\n",
              " 'id9',\n",
              " 'id10',\n",
              " 'id11',\n",
              " 'id12',\n",
              " 'id13',\n",
              " 'id14',\n",
              " 'id15',\n",
              " 'id16',\n",
              " 'id17',\n",
              " 'id18',\n",
              " 'id19',\n",
              " 'id20',\n",
              " 'id21',\n",
              " 'id22',\n",
              " 'id23',\n",
              " 'id24',\n",
              " 'id25',\n",
              " 'id26',\n",
              " 'id27',\n",
              " 'id28',\n",
              " 'id29',\n",
              " 'id30',\n",
              " 'id31',\n",
              " 'id32',\n",
              " 'id33',\n",
              " 'id34',\n",
              " 'id35',\n",
              " 'id36',\n",
              " 'id37',\n",
              " 'id38',\n",
              " 'id39',\n",
              " 'id40',\n",
              " 'id41',\n",
              " 'id42',\n",
              " 'id43',\n",
              " 'id44',\n",
              " 'id45',\n",
              " 'id46',\n",
              " 'id47',\n",
              " 'id48',\n",
              " 'id49',\n",
              " 'id50',\n",
              " 'id51',\n",
              " 'id52',\n",
              " 'id53',\n",
              " 'id54',\n",
              " 'id55',\n",
              " 'id56',\n",
              " 'id57',\n",
              " 'id58',\n",
              " 'id59',\n",
              " 'id60',\n",
              " 'id61',\n",
              " 'id62',\n",
              " 'id63',\n",
              " 'id64',\n",
              " 'id65',\n",
              " 'id66',\n",
              " 'id67',\n",
              " 'id68',\n",
              " 'id69',\n",
              " 'id70',\n",
              " 'id71',\n",
              " 'id72',\n",
              " 'id73',\n",
              " 'id74',\n",
              " 'id75',\n",
              " 'id76',\n",
              " 'id77',\n",
              " 'id78',\n",
              " 'id79',\n",
              " 'id80',\n",
              " 'id81',\n",
              " 'id82',\n",
              " 'id83',\n",
              " 'id84',\n",
              " 'id85',\n",
              " 'id86',\n",
              " 'id87',\n",
              " 'id88',\n",
              " 'id89',\n",
              " 'id90',\n",
              " 'id91',\n",
              " 'id92',\n",
              " 'id93',\n",
              " 'id94',\n",
              " 'id95',\n",
              " 'id96',\n",
              " 'id97',\n",
              " 'id98',\n",
              " 'id99']"
            ]
          },
          "metadata": {},
          "execution_count": 71
        }
      ]
    },
    {
      "cell_type": "code",
      "source": [
        "collection = chroma.create_collection(name=collection_name)"
      ],
      "metadata": {
        "colab": {
          "base_uri": "https://localhost:8080/"
        },
        "id": "ekA0qpeDJfV_",
        "outputId": "7816f5d8-3dde-48ef-c681-55b31e8a77d7"
      },
      "execution_count": 72,
      "outputs": [
        {
          "output_type": "stream",
          "name": "stderr",
          "text": [
            "WARNING:chromadb.api.models.Collection:No embedding_function provided, using default embedding function: SentenceTransformerEmbeddingFunction\n",
            "/usr/local/lib/python3.10/dist-packages/huggingface_hub/file_download.py:1132: FutureWarning: `resume_download` is deprecated and will be removed in version 1.0.0. Downloads always resume when possible. If you want to force a new download, use `force_download=True`.\n",
            "  warnings.warn(\n"
          ]
        }
      ]
    },
    {
      "cell_type": "code",
      "source": [
        "collection.add(\n",
        "    documents = pdf_subset[\"title\"][:100].tolist(),\n",
        "    metadatas = metadata,\n",
        "    ids = ids,\n",
        ")"
      ],
      "metadata": {
        "id": "aOn1ZVmTGut-"
      },
      "execution_count": 73,
      "outputs": []
    },
    {
      "cell_type": "code",
      "source": [
        "results = collection.query(query_texts=[\"animal\"],n_results=4)\n",
        "results"
      ],
      "metadata": {
        "colab": {
          "base_uri": "https://localhost:8080/"
        },
        "id": "b9-5eq5lKOwD",
        "outputId": "8daefc3a-cdf6-4b28-f0d7-531176a65a37"
      },
      "execution_count": 74,
      "outputs": [
        {
          "output_type": "execute_result",
          "data": {
            "text/plain": [
              "{'ids': [['id99', 'id16', 'id1', 'id26']],\n",
              " 'embeddings': None,\n",
              " 'documents': [['Ghostwire: Tokyo confirms dog petting',\n",
              "   'Tradeoff between the eyes and nose helps flies find their niche',\n",
              "   'An irresistible scent makes locusts swarm, study finds',\n",
              "   '‘It came alive:’ NASA astronauts describe experiencing splashdown in SpaceX Dragon']],\n",
              " 'metadatas': [[{'topic': 'TECHNOLOGY'},\n",
              "   {'topic': 'SCIENCE'},\n",
              "   {'topic': 'SCIENCE'},\n",
              "   {'topic': 'SCIENCE'}]],\n",
              " 'distances': [[1.3118830919265747,\n",
              "   1.5922542810440063,\n",
              "   1.5983850955963135,\n",
              "   1.635123372077942]]}"
            ]
          },
          "metadata": {},
          "execution_count": 74
        }
      ]
    },
    {
      "cell_type": "code",
      "source": [
        "import json"
      ],
      "metadata": {
        "id": "FsTelNHwKkOP"
      },
      "execution_count": 75,
      "outputs": []
    },
    {
      "cell_type": "code",
      "source": [
        "print(json.dumps(results, indent=4))"
      ],
      "metadata": {
        "colab": {
          "base_uri": "https://localhost:8080/"
        },
        "id": "l6xBfHZ3Ki2C",
        "outputId": "01850e5f-8527-4d27-bbf7-6dc66bb33912"
      },
      "execution_count": 76,
      "outputs": [
        {
          "output_type": "stream",
          "name": "stdout",
          "text": [
            "{\n",
            "    \"ids\": [\n",
            "        [\n",
            "            \"id99\",\n",
            "            \"id16\",\n",
            "            \"id1\",\n",
            "            \"id26\"\n",
            "        ]\n",
            "    ],\n",
            "    \"embeddings\": null,\n",
            "    \"documents\": [\n",
            "        [\n",
            "            \"Ghostwire: Tokyo confirms dog petting\",\n",
            "            \"Tradeoff between the eyes and nose helps flies find their niche\",\n",
            "            \"An irresistible scent makes locusts swarm, study finds\",\n",
            "            \"\\u2018It came alive:\\u2019 NASA astronauts describe experiencing splashdown in SpaceX Dragon\"\n",
            "        ]\n",
            "    ],\n",
            "    \"metadatas\": [\n",
            "        [\n",
            "            {\n",
            "                \"topic\": \"TECHNOLOGY\"\n",
            "            },\n",
            "            {\n",
            "                \"topic\": \"SCIENCE\"\n",
            "            },\n",
            "            {\n",
            "                \"topic\": \"SCIENCE\"\n",
            "            },\n",
            "            {\n",
            "                \"topic\": \"SCIENCE\"\n",
            "            }\n",
            "        ]\n",
            "    ],\n",
            "    \"distances\": [\n",
            "        [\n",
            "            1.3118830919265747,\n",
            "            1.5922542810440063,\n",
            "            1.5983850955963135,\n",
            "            1.635123372077942\n",
            "        ]\n",
            "    ]\n",
            "}\n"
          ]
        }
      ]
    },
    {
      "cell_type": "code",
      "source": [
        "collection.query(query_texts=[\"animal\"], where={\"topic\": \"SCIENCE\"}, n_results=10)"
      ],
      "metadata": {
        "colab": {
          "base_uri": "https://localhost:8080/"
        },
        "id": "0Kb-0m0iKqag",
        "outputId": "520d6859-c9ed-4fa6-ff36-8e0bed002c66"
      },
      "execution_count": 77,
      "outputs": [
        {
          "output_type": "execute_result",
          "data": {
            "text/plain": [
              "{'ids': [['id16',\n",
              "   'id1',\n",
              "   'id26',\n",
              "   'id36',\n",
              "   'id19',\n",
              "   'id18',\n",
              "   'id27',\n",
              "   'id20',\n",
              "   'id2',\n",
              "   'id38']],\n",
              " 'embeddings': None,\n",
              " 'documents': [['Tradeoff between the eyes and nose helps flies find their niche',\n",
              "   'An irresistible scent makes locusts swarm, study finds',\n",
              "   '‘It came alive:’ NASA astronauts describe experiencing splashdown in SpaceX Dragon',\n",
              "   'Cause Of Massive Fish Kill In Shinnecock Canal Not Clear - 27 East',\n",
              "   'Nasa SpaceX crew return: Dragon capsule splashes down',\n",
              "   'In rare find, fossil shows how Cretaceous-era ‘hell ant’ ate its prey with weird jaws',\n",
              "   'When did humans find out how to use fire?',\n",
              "   'Take a look at Mar’s eerie nightglow',\n",
              "   'Artificial intelligence warning: AI will know us better than we know ourselves',\n",
              "   \"'Zombie cicadas' under the influence of a mind controlling fungus have returned to West Virginia\"]],\n",
              " 'metadatas': [[{'topic': 'SCIENCE'},\n",
              "   {'topic': 'SCIENCE'},\n",
              "   {'topic': 'SCIENCE'},\n",
              "   {'topic': 'SCIENCE'},\n",
              "   {'topic': 'SCIENCE'},\n",
              "   {'topic': 'SCIENCE'},\n",
              "   {'topic': 'SCIENCE'},\n",
              "   {'topic': 'SCIENCE'},\n",
              "   {'topic': 'SCIENCE'},\n",
              "   {'topic': 'SCIENCE'}]],\n",
              " 'distances': [[1.5922542810440063,\n",
              "   1.5983850955963135,\n",
              "   1.635123372077942,\n",
              "   1.711907148361206,\n",
              "   1.7523068189620972,\n",
              "   1.752745270729065,\n",
              "   1.7541403770446777,\n",
              "   1.7596224546432495,\n",
              "   1.7606772184371948,\n",
              "   1.7691009044647217]]}"
            ]
          },
          "metadata": {},
          "execution_count": 77
        }
      ]
    },
    {
      "cell_type": "code",
      "source": [
        "collection.get(\n",
        "    ids=[\"id2\"],\n",
        ")"
      ],
      "metadata": {
        "colab": {
          "base_uri": "https://localhost:8080/"
        },
        "id": "dBuGQ3ZaK1jR",
        "outputId": "5d999bbf-2174-44bd-d013-950c76cf9e32"
      },
      "execution_count": 78,
      "outputs": [
        {
          "output_type": "execute_result",
          "data": {
            "text/plain": [
              "{'ids': ['id2'],\n",
              " 'embeddings': None,\n",
              " 'documents': ['Artificial intelligence warning: AI will know us better than we know ourselves'],\n",
              " 'metadatas': [{'topic': 'SCIENCE'}]}"
            ]
          },
          "metadata": {},
          "execution_count": 78
        }
      ]
    },
    {
      "cell_type": "code",
      "source": [
        "collection.update(\n",
        "    ids=[\"id2\"],\n",
        "    metadatas=[{\"topic\": \"TECHNOLOGY\"}],\n",
        ")\n"
      ],
      "metadata": {
        "id": "Ly40VJOwK28L"
      },
      "execution_count": 79,
      "outputs": []
    },
    {
      "cell_type": "code",
      "source": [
        "collection.get(\n",
        "    ids=[\"id2\"],\n",
        ")"
      ],
      "metadata": {
        "colab": {
          "base_uri": "https://localhost:8080/"
        },
        "id": "LFGpppCYK8vp",
        "outputId": "94db6212-4e58-4341-9a5b-94b10ff1fb9e"
      },
      "execution_count": 80,
      "outputs": [
        {
          "output_type": "execute_result",
          "data": {
            "text/plain": [
              "{'ids': ['id2'],\n",
              " 'embeddings': None,\n",
              " 'documents': ['Artificial intelligence warning: AI will know us better than we know ourselves'],\n",
              " 'metadatas': [{'topic': 'TECHNOLOGY'}]}"
            ]
          },
          "metadata": {},
          "execution_count": 80
        }
      ]
    },
    {
      "cell_type": "code",
      "source": [
        "from transformers import AutoTokenizer, AutoModelForCausalLM, pipeline\n",
        "\n",
        "model_id = \"gpt2\"\n",
        "tokenizer = AutoTokenizer.from_pretrained(model_id)\n",
        "lm_model = AutoModelForCausalLM.from_pretrained(model_id)\n",
        "\n",
        "pipe = pipeline(\n",
        "    \"text-generation\",\n",
        "    model=lm_model,\n",
        "    tokenizer=tokenizer,\n",
        "    max_new_tokens=512,\n",
        "    device_map=\"auto\",\n",
        ")\n"
      ],
      "metadata": {
        "id": "8CQdhC_1L5Yb"
      },
      "execution_count": 81,
      "outputs": []
    },
    {
      "cell_type": "code",
      "source": [
        "results[\"documents\"][0]"
      ],
      "metadata": {
        "colab": {
          "base_uri": "https://localhost:8080/"
        },
        "id": "5oxk1ytO7FwF",
        "outputId": "1bb51d13-dcf4-4c2c-8c49-b09cbf349c6c"
      },
      "execution_count": 84,
      "outputs": [
        {
          "output_type": "execute_result",
          "data": {
            "text/plain": [
              "['Ghostwire: Tokyo confirms dog petting',\n",
              " 'Tradeoff between the eyes and nose helps flies find their niche',\n",
              " 'An irresistible scent makes locusts swarm, study finds',\n",
              " '‘It came alive:’ NASA astronauts describe experiencing splashdown in SpaceX Dragon']"
            ]
          },
          "metadata": {},
          "execution_count": 84
        }
      ]
    },
    {
      "cell_type": "code",
      "source": [
        "context = \" \".join([f\"#{str(i)}\" for i in results[\"documents\"][0]])\n",
        "context"
      ],
      "metadata": {
        "colab": {
          "base_uri": "https://localhost:8080/",
          "height": 53
        },
        "id": "1p1ikThrMQpC",
        "outputId": "6d9a20cf-4c43-4950-b857-1d740bd68663"
      },
      "execution_count": 82,
      "outputs": [
        {
          "output_type": "execute_result",
          "data": {
            "text/plain": [
              "'#Ghostwire: Tokyo confirms dog petting #Tradeoff between the eyes and nose helps flies find their niche #An irresistible scent makes locusts swarm, study finds #‘It came alive:’ NASA astronauts describe experiencing splashdown in SpaceX Dragon'"
            ],
            "application/vnd.google.colaboratory.intrinsic+json": {
              "type": "string"
            }
          },
          "metadata": {},
          "execution_count": 82
        }
      ]
    },
    {
      "cell_type": "code",
      "source": [
        "question = \"What's the latest news on space development?\"\n",
        "\n",
        "prompt_template = f\"Relevant context: {context}\\n\\n The user's question: {question}\"\n"
      ],
      "metadata": {
        "id": "KocEOxXqL8I3"
      },
      "execution_count": 86,
      "outputs": []
    },
    {
      "cell_type": "code",
      "source": [
        "lm_response = pipe(prompt_template)\n",
        "print(lm_response[0][\"generated_text\"])"
      ],
      "metadata": {
        "colab": {
          "base_uri": "https://localhost:8080/"
        },
        "id": "o3tkjHHX7n3i",
        "outputId": "2e5a7756-0a7a-4bdb-9a31-a2248ba669f3"
      },
      "execution_count": 87,
      "outputs": [
        {
          "output_type": "stream",
          "name": "stderr",
          "text": [
            "Setting `pad_token_id` to `eos_token_id`:50256 for open-end generation.\n"
          ]
        },
        {
          "output_type": "stream",
          "name": "stdout",
          "text": [
            "Relevant context: #Ghostwire: Tokyo confirms dog petting #Tradeoff between the eyes and nose helps flies find their niche #An irresistible scent makes locusts swarm, study finds #‘It came alive:’ NASA astronauts describe experiencing splashdown in SpaceX Dragon\n",
            "\n",
            " The user's question: What's the latest news on space development?\n",
            "\n",
            "\n",
            "SpaceX announced early this morning that it is relocating its Falcon 9 rocket and first flight to a hangar outside of New York City. Crews are expected to begin flying to the pad by the end of June, and SpaceX is also aiming to begin building two Falcon 9s to launch from the launch pad during the first stage's maiden flight in March.\n",
            "\n",
            "\n",
            "The rocket will launch at speeds not seen since the Falcon 9 was ordered to the International Space Station in 1986. Though it has had trouble performing well in space so far, the Falcon 9 is an ideal launch vehicle for SpaceX's plan to get to the International Space Station in May.\n",
            "\n",
            "\n",
            "NASA's robotic robotic arm of the ISS will hold two test firings of its own from its pad, including one during the second stage of the shuttle, as well as several rendezvous operations between its four booster modules.\n",
            "\n",
            "\n",
            "The first flight of the Falcon 9 will be scheduled for this week, and the second launch is expected in late summer 2015, NASA said. SpaceX, the European Space Agency, and private equity investors are reportedly looking for commercial partners to support their research.\n",
            "\n",
            "\n",
            "For SpaceX, that means putting in place some technical and commercial capabilities in order to get to the space station. The company has already partnered with the Smithsonian Institution to test new commercial spacecraft that will be installed inside the ISS. SpaceX is also currently building its new Falcon Heavy rocket, a highly maneuverable rocket that's being built to support the new Atlas V.\n",
            "\n",
            "\n",
            "\"I don't want to describe it as NASA's biggest project. It's kind of a different story,\" SpaceX CEO Charles Bolden told reporters at Dulles International Airport Saturday when asked about the new Falcon Heavy rocket. On Friday, NASA officials added that they would be reviewing the first rocket prototype that would ultimately form the company's next rocket.\n",
            "\n",
            "\n",
            "While the company hopes to bring back the commercial Crew capsule that landed the Falcon 9 in October, NASA officials stressed that these are not intended to replace crews on the space station. Instead, they want these reusable spacecraft to be more flexible and to be able to \"go with whatever happens to your capsule,\" Boeing confirmed. To that end, Boeing is building a Falcon Heavy booster that will carry the rocket inside the Atlas V.\n",
            "\n",
            "\n",
            "That has been a long line of NASA shuttle, human and robot engineers. That will likely be key to making the space station even better. However, many have questions about the future of the agency's shuttle program and the role they are playing\n"
          ]
        }
      ]
    }
  ]
}